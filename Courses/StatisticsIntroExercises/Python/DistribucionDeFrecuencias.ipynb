{
 "cells": [
  {
   "cell_type": "code",
   "execution_count": 1,
   "outputs": [],
   "source": [
    "import numpy as np\n",
    "import pandas as pd\n",
    "\n",
    "labels = np.array(['$250.00 - $259.99','$260.00 - $269.99','$270.00 - $279.99','$280.00 - $289.99','$290.00 - $299.99',\n",
    "          '$300.00 - $309.99','$310.00 - $319.99'])\n",
    "ranges = np.array([(250.00,259.99),(260.00,269.99),(270.00,279.99),(280.00,289.99),\n",
    "                   (290.00,299.99),(300.00,309.99),(310.00,319.99)])\n",
    "\n",
    "values = np.array([8,10,16,14,10,5,2])"
   ],
   "metadata": {
    "collapsed": false,
    "pycharm": {
     "name": "#%%\n"
    }
   }
  },
  {
   "cell_type": "markdown",
   "metadata": {
    "collapsed": true,
    "pycharm": {
     "name": "#%% md\n"
    }
   },
   "source": [
    "Teniendo esta tabla calcule lo que se pide:\n",
    "\n",
    "| Salarios | Numero de Empleados |\n",
    "|---|-:|\n",
    "| $250.00 - $259.99 |  8 |\n",
    "| $260.00 - $269.99 | 10 |\n",
    "| $270.00 - $279.99 | 16 |\n",
    "| $280.00 - $289.99 | 14 |\n",
    "| $290.00 - $299.99 | 10 |\n",
    "| $300.00 - $309.99 |  5 |\n",
    "| $310.00 - $319.99 |  2 |\n",
    "\n",
    "    a) El límite inferior de la sexta clase."
   ]
  },
  {
   "cell_type": "code",
   "execution_count": 2,
   "outputs": [
    {
     "name": "stdout",
     "output_type": "stream",
     "text": [
      "300.0\n"
     ]
    }
   ],
   "source": [
    "print(ranges[5][0])"
   ],
   "metadata": {
    "collapsed": false,
    "pycharm": {
     "name": "#%%\n"
    }
   }
  },
  {
   "cell_type": "markdown",
   "source": [
    "    b) El límite superior de la cuarta clase."
   ],
   "metadata": {
    "collapsed": false,
    "pycharm": {
     "name": "#%% md\n"
    }
   }
  },
  {
   "cell_type": "code",
   "execution_count": 3,
   "outputs": [
    {
     "name": "stdout",
     "output_type": "stream",
     "text": [
      "289.99\n"
     ]
    }
   ],
   "source": [
    "print(ranges[3][1])"
   ],
   "metadata": {
    "collapsed": false,
    "pycharm": {
     "name": "#%%\n"
    }
   }
  },
  {
   "cell_type": "markdown",
   "source": [
    "    c) La marca de clase (o punto medio de clase) de la tercera clase."
   ],
   "metadata": {
    "collapsed": false
   }
  },
  {
   "cell_type": "code",
   "execution_count": 5,
   "outputs": [
    {
     "name": "stdout",
     "output_type": "stream",
     "text": [
      "274.995\n"
     ]
    }
   ],
   "source": [
    "v_medio = np.mean(ranges[2])\n",
    "print(v_medio)"
   ],
   "metadata": {
    "collapsed": false,
    "pycharm": {
     "name": "#%%\n"
    }
   }
  },
  {
   "cell_type": "markdown",
   "source": [
    "para fines practicos se puede redondear"
   ],
   "metadata": {
    "collapsed": false
   }
  },
  {
   "cell_type": "code",
   "source": [
    "print(np.around(v_medio,0))"
   ],
   "metadata": {
    "collapsed": false,
    "pycharm": {
     "name": "#%%\n"
    }
   },
   "execution_count": 9,
   "outputs": [
    {
     "name": "stdout",
     "output_type": "stream",
     "text": [
      "275.0\n"
     ]
    }
   ]
  },
  {
   "cell_type": "markdown",
   "source": [
    "    d) Las fronteras de clase de la quinta clase."
   ],
   "metadata": {
    "collapsed": false
   }
  },
  {
   "cell_type": "code",
   "execution_count": 11,
   "outputs": [
    {
     "name": "stdout",
     "output_type": "stream",
     "text": [
      "Frontera inferior: 289.995\n",
      "Frontera superior: 299.995\n"
     ]
    }
   ],
   "source": [
    "frontera_inferior = np.mean([ranges[3][1], ranges[4][0]])\n",
    "print('Frontera inferior: {}'.format(frontera_inferior))\n",
    "frontera_superior = np.mean([ranges[4][1],ranges[5][0]])\n",
    "print('Frontera superior: {}'.format(frontera_superior))"
   ],
   "metadata": {
    "collapsed": false,
    "pycharm": {
     "name": "#%%\n"
    }
   }
  },
  {
   "cell_type": "markdown",
   "source": [
    "    e) La amplitud del intervalo de la quinta clase."
   ],
   "metadata": {
    "collapsed": false
   }
  },
  {
   "cell_type": "code",
   "execution_count": 13,
   "outputs": [
    {
     "name": "stdout",
     "output_type": "stream",
     "text": [
      "10.0\n"
     ]
    }
   ],
   "source": [
    "amplitud_intervalo = frontera_superior-frontera_inferior\n",
    "print(amplitud_intervalo)"
   ],
   "metadata": {
    "collapsed": false,
    "pycharm": {
     "name": "#%%\n"
    }
   }
  },
  {
   "cell_type": "markdown",
   "source": [
    "    f) La frecuencia de la tercera clase."
   ],
   "metadata": {
    "collapsed": false
   }
  },
  {
   "cell_type": "code",
   "execution_count": 14,
   "outputs": [
    {
     "name": "stdout",
     "output_type": "stream",
     "text": [
      "16\n"
     ]
    }
   ],
   "source": [
    "print(values[2])"
   ],
   "metadata": {
    "collapsed": false,
    "pycharm": {
     "name": "#%%\n"
    }
   }
  },
  {
   "cell_type": "markdown",
   "source": [
    "    g) La frecuencia relativa de la tercera clase."
   ],
   "metadata": {
    "collapsed": false
   }
  },
  {
   "cell_type": "code",
   "execution_count": 17,
   "outputs": [
    {
     "name": "stdout",
     "output_type": "stream",
     "text": [
      "24.6%\n"
     ]
    }
   ],
   "source": [
    "frecuencia_relativa = values[2]/ np.sum(values) *100\n",
    "print('{}%'.format(np.around(frecuencia_relativa,1)))"
   ],
   "metadata": {
    "collapsed": false,
    "pycharm": {
     "name": "#%%\n"
    }
   }
  },
  {
   "cell_type": "markdown",
   "source": [
    "    h) El intervalo de clase de mayor frecuencia. A este intervalo se le suele llamar  intervalo de clase modal  y a su frecuencia se le conoce como  frecuencia de la clase modal."
   ],
   "metadata": {
    "collapsed": false
   }
  },
  {
   "cell_type": "code",
   "execution_count": 19,
   "outputs": [
    {
     "name": "stdout",
     "output_type": "stream",
     "text": [
      "$270.00 - $279.99\n"
     ]
    }
   ],
   "source": [
    "mayor_frecuencia_index = values.argmax()\n",
    "print(labels[mayor_frecuencia_index])"
   ],
   "metadata": {
    "collapsed": false,
    "pycharm": {
     "name": "#%%\n"
    }
   }
  },
  {
   "cell_type": "markdown",
   "source": [
    "    i) El porcentaje de empleados que gana menos de $280.00 por semana."
   ],
   "metadata": {
    "collapsed": false
   }
  },
  {
   "cell_type": "code",
   "execution_count": 47,
   "outputs": [
    {
     "name": "stdout",
     "output_type": "stream",
     "text": [
      "52.307692307692314 %\n"
     ]
    }
   ],
   "source": [
    "total_empleados = np.sum(values)\n",
    "df_ranges = pd.DataFrame(ranges)\n",
    "df_ranges.transpose()\n",
    "df_ranges.columns = [\"Limite Inferior\",\"Limite Superior\"]\n",
    "df_ranges[\"frequency\"] = values.transpose()\n",
    "\n",
    "empleados_ganando_debajo = df_ranges.loc[df_ranges[\"Limite Inferior\"] < 280][\"frequency\"].sum()\n",
    "print(\"{0} %\".format(empleados_ganando_debajo/total_empleados * 100))"
   ],
   "metadata": {
    "collapsed": false,
    "pycharm": {
     "name": "#%%\n"
    }
   }
  },
  {
   "cell_type": "markdown",
   "source": [
    "    j) El porcentaje de empleados que gana menos de $300.00 por semana, pero por lo menos $260.00 por semana."
   ],
   "metadata": {
    "collapsed": false
   }
  },
  {
   "cell_type": "code",
   "execution_count": 46,
   "outputs": [
    {
     "name": "stdout",
     "output_type": "stream",
     "text": [
      "76.92307692307693 % \n"
     ]
    }
   ],
   "source": [
    "empleados_ganando_rango = df_ranges.loc[(df_ranges[\"Limite Inferior\"] < 300) & (df_ranges[\"Limite Inferior\"] >=260)][\"frequency\"].sum()\n",
    "print(\"{0} % \".format(empleados_ganando_rango / total_empleados * 100))"
   ],
   "metadata": {
    "collapsed": false,
    "pycharm": {
     "name": "#%%\n"
    }
   }
  }
 ],
 "metadata": {
  "kernelspec": {
   "display_name": "Python 3",
   "language": "python",
   "name": "python3"
  },
  "language_info": {
   "codemirror_mode": {
    "name": "ipython",
    "version": 2
   },
   "file_extension": ".py",
   "mimetype": "text/x-python",
   "name": "python",
   "nbconvert_exporter": "python",
   "pygments_lexer": "ipython2",
   "version": "2.7.6"
  }
 },
 "nbformat": 4,
 "nbformat_minor": 0
}