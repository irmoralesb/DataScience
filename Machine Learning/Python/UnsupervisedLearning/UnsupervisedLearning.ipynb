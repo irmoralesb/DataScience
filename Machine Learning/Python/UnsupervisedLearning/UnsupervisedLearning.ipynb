{
 "cells": [
  {
   "cell_type": "markdown",
   "metadata": {
    "collapsed": true,
    "pycharm": {
     "name": "#%% md\n"
    }
   },
   "source": [
    "## Unsupervised Learning\n",
    "\n",
    "* Unsupervised learning finds patterns in data.\n",
    "    * E.g. clustering customers by their purchases\n",
    "* Compression the data using purchases patterns (Dimession Reductions)\n",
    "\n",
    "\n",
    "## Iris dataset\n",
    "\n",
    "* Iris example are points in 4 dimensional space\n",
    "* Dimension = number of features\n",
    "* Dimension too high to visualize... but unsupervised learning gives insight\n",
    "\n",
    "## k-Means Clustering\n",
    "\n",
    "* Find clusters of samples\n",
    "* Number of clusters must be specified"
   ]
  },
  {
   "cell_type": "code",
   "execution_count": null,
   "outputs": [],
   "source": [
    "from sklearn.cluster import KMeans\n",
    "samples = None\n",
    "model = KMeans(n_clusters=3)\n",
    "model.fit(samples)\n",
    "labels = model.predict(samples)\n"
   ],
   "metadata": {
    "collapsed": false,
    "pycharm": {
     "name": "#%%\n"
    }
   }
  },
  {
   "cell_type": "markdown",
   "source": [
    "Labels contain the cluster id for each sample\n",
    "\n",
    "New samples can be assigned to existing clusters\n",
    "\n",
    "> k-means remember the mean of each cluster (the centroids), so it finds what is the nearest centroid\n"
   ],
   "metadata": {
    "collapsed": false,
    "pycharm": {
     "name": "#%% md\n"
    }
   }
  },
  {
   "cell_type": "code",
   "execution_count": null,
   "outputs": [],
   "source": [
    "new_labels = model.predict(new_samples)"
   ],
   "metadata": {
    "collapsed": false,
    "pycharm": {
     "name": "#%%\n"
    }
   }
  },
  {
   "cell_type": "markdown",
   "source": [
    "To see the data it can be used matplotlib.pyplot"
   ],
   "metadata": {
    "collapsed": false,
    "pycharm": {
     "name": "#%% md\n"
    }
   }
  },
  {
   "cell_type": "code",
   "execution_count": null,
   "outputs": [],
   "source": [
    "import matplotlib.pyplot as  plt\n",
    "\n",
    "xs= samples[:,0] # petal length\n",
    "ys= samples[:,2] # petal width\n",
    "\n",
    "plt.scatter(xs,ys, c=labels)\n",
    "plt.show()"
   ],
   "metadata": {
    "collapsed": false,
    "pycharm": {
     "name": "#%%\n"
    }
   }
  },
  {
   "cell_type": "markdown",
   "source": [
    "> Centroids can be known by: model.cluster_centers_"
   ],
   "metadata": {
    "collapsed": false,
    "pycharm": {
     "name": "#%% md\n"
    }
   }
  },
  {
   "cell_type": "code",
   "execution_count": null,
   "outputs": [],
   "source": [
    "# Import pyplot\n",
    "import matplotlib.pyplot as plt\n",
    "\n",
    "# Assign the columns of new_points: xs and ys\n",
    "xs = new_points[:,0]\n",
    "ys = new_points[:,1]\n",
    "\n",
    "# Make a scatter plot of xs and ys, using labels to define the colors\n",
    "plt.scatter(xs,ys, c=labels, alpha=0.5)\n",
    "\n",
    "# Assign the cluster centers: centroids\n",
    "centroids = model.cluster_centers_\n",
    "\n",
    "# Assign the columns of centroids: centroids_x, centroids_y\n",
    "centroids_x = centroids[:,0]\n",
    "centroids_y = centroids[:,1]\n",
    "\n",
    "# Make a scatter plot of centroids_x and centroids_y\n",
    "plt.scatter(centroids_x, centroids_y, marker=\"D\", s=50)\n",
    "plt.show()"
   ],
   "metadata": {
    "collapsed": false,
    "pycharm": {
     "name": "#%%\n"
    }
   }
  },
  {
   "cell_type": "markdown",
   "source": [
    "## Evaluating the Clusters\n",
    "\n",
    "* KMeans found 3 clusters among the iris samples\n",
    "* Do the clusters correspond to the species?\n",
    "\n",
    "### Clusters vs Species is a \"cross-tabulation\"\n",
    "\n",
    "Given the species of each sample as a list of species\n",
    "\n",
    "print(species)\n",
    "[\"setosa\",\"setosa\", \"versicolor\", \"virginica\",...]\n",
    "\n",
    "Now create a Dataframe, one column with the labels and the another one with the species"
   ],
   "metadata": {
    "collapsed": false,
    "pycharm": {
     "name": "#%% md\n"
    }
   }
  },
  {
   "cell_type": "code",
   "execution_count": null,
   "outputs": [],
   "source": [
    "import pandas as pd\n",
    "species = [\"setosa\",\"setosa\", \"versicolor\", \"virginica\",...]\n",
    "df = pd.DataFrame({\"labels\":labels, \"species\":species})\n",
    "print(df)\n",
    "\n",
    "ct = pd.crosstab(df[\"labels\"], df[\"species\"])\n",
    "print(ct)"
   ],
   "metadata": {
    "collapsed": false,
    "pycharm": {
     "name": "#%%\n"
    }
   }
  },
  {
   "cell_type": "markdown",
   "source": [
    "|species|setosa|versicolor|virginica|\n",
    "|---|---|---|---|\n",
    "|labels |   |    |    |\n",
    "| 0 | 0  |  2 | 36 |\n",
    "| 1 | 50 |  0 |  0 |\n",
    "| 2 | 0  | 48 | 14 |\n",
    "\n",
    "\n",
    "### What happens if there is not a species list?\n",
    "\n",
    "* Using only samples, and their cluster labels\n",
    "* A good clustering has tight clusters\n",
    "* Samples in each cluster bunched together\n",
    "\n",
    "### Inertia measures clustering quality\n",
    "\n",
    "* Measures how spread out the clusters are (lower is better)\n",
    "* Distance from each sample to centroid of its cluster"
   ],
   "metadata": {
    "collapsed": false,
    "pycharm": {
     "name": "#%% md\n"
    }
   }
  },
  {
   "cell_type": "code",
   "execution_count": null,
   "outputs": [],
   "source": [
    "print(model.inertia_)\n",
    "# 78.9408414261"
   ],
   "metadata": {
    "collapsed": false,
    "pycharm": {
     "name": "#%%\n"
    }
   }
  },
  {
   "cell_type": "markdown",
   "source": [
    "This is the behavior depending on the different number of clusters\n",
    "\n",
    "![](../images/clustering_inertia.png)\n",
    "\n",
    "We can see that using 3 clusters is a low value, but if we use more the inertial decreases,\n",
    "**so what is the best number of clusters?**\n",
    "\n",
    "> A good clustering has tight clusters (so low inertia) BUT no too many clusters!\n",
    "\n",
    "> Choose an elbow in the inertia plot"
   ],
   "metadata": {
    "collapsed": false,
    "pycharm": {
     "name": "#%% md\n"
    }
   }
  },
  {
   "cell_type": "code",
   "execution_count": null,
   "outputs": [],
   "source": [
    "ks = range(1, 6)\n",
    "inertias = []\n",
    "\n",
    "for k in ks:\n",
    "    # Create a KMeans instance with k clusters: model\n",
    "    model = KMeans(n_clusters= k)\n",
    "\n",
    "    # Fit model to samples\n",
    "    model.fit(samples)\n",
    "\n",
    "    # Append the inertia to the list of inertias\n",
    "    inertias.append(model.inertia_)\n",
    "\n",
    "# Plot ks vs inertias\n",
    "plt.plot(ks, inertias, '-o')\n",
    "plt.xlabel('number of clusters, k')\n",
    "plt.ylabel('inertia')\n",
    "plt.xticks(ks)\n",
    "plt.show()\n"
   ],
   "metadata": {
    "collapsed": false,
    "pycharm": {
     "name": "#%%\n"
    }
   }
  },
  {
   "cell_type": "markdown",
   "source": [
    "## Another example\n",
    "\n",
    "### How many clusters of grain?\n",
    "\n",
    "[Dataset](https://archive.ics.uci.edu/ml/datasets/seeds)"
   ],
   "metadata": {
    "collapsed": false,
    "pycharm": {
     "name": "#%% md\n"
    }
   }
  },
  {
   "cell_type": "code",
   "execution_count": null,
   "outputs": [],
   "source": [
    "ks = range(1, 6)\n",
    "inertias = []\n",
    "\n",
    "for k in ks:\n",
    "    # Create a KMeans instance with k clusters: model\n",
    "    model = KMeans(n_clusters= k)\n",
    "\n",
    "    # Fit model to samples\n",
    "    model.fit(samples)\n",
    "\n",
    "    # Append the inertia to the list of inertias\n",
    "    inertias.append(model.inertia_)\n",
    "\n",
    "# Plot ks vs inertias\n",
    "plt.plot(ks, inertias, '-o')\n",
    "plt.xlabel('number of clusters, k')\n",
    "plt.ylabel('inertia')\n",
    "plt.xticks(ks)\n",
    "plt.show()\n",
    "\n",
    "# Create a KMeans model with 3 clusters: model\n",
    "model = KMeans(n_clusters=3)\n",
    "\n",
    "# Use fit_predict to fit model and obtain cluster labels: labels\n",
    "labels = model.fit_predict(samples)\n",
    "\n",
    "# Create a DataFrame with labels and varieties as columns: df\n",
    "df = pd.DataFrame({'labels': labels, 'varieties': varieties})\n",
    "\n",
    "# Create crosstab: ct\n",
    "ct = pd.crosstab(df[\"labels\"],df[\"varieties\"])\n",
    "\n",
    "# Display ct\n",
    "print(ct)"
   ],
   "metadata": {
    "collapsed": false,
    "pycharm": {
     "name": "#%%\n"
    }
   }
  },
  {
   "cell_type": "markdown",
   "source": [
    "## Transforming features for better clustering\n",
    "\n",
    "Using the Piedmont wines dataset, with 3 types of wines does not cluster correctly, due to the variance,\n",
    "we need to transform the data to **have the same dimension**"
   ],
   "metadata": {
    "collapsed": false,
    "pycharm": {
     "name": "#%% md\n"
    }
   }
  },
  {
   "cell_type": "code",
   "execution_count": null,
   "outputs": [],
   "source": [
    "from sklearn.cluster import KMeans\n",
    "model = KMeans(n_clusters=3)\n",
    "labels = model.fit_predict(samples)\n",
    "\n",
    "df = pd.DataFrame({\"labels\": labels,\n",
    "                   \"varieties\": variaties})\n",
    "\n",
    "ct = pd.crosstab(df[\"labels\"], df[\"varieties\"])\n",
    "print(ct)"
   ],
   "metadata": {
    "collapsed": false,
    "pycharm": {
     "name": "#%%\n"
    }
   }
  },
  {
   "cell_type": "markdown",
   "source": [
    "|varieties|Barbera|Barolo|Grignolino|\n",
    "|---|---|---|---|\n",
    "|labels |   |   |    |\n",
    "| 0 | 29  |  13 | 20 |\n",
    "| 1 |  0  |  46 |  1 |\n",
    "| 2 | 19  |   0 | 50 |\n",
    "\n",
    "We can observe that the features have very different variances\n",
    "![](../images/wine_cluster.png)\n",
    "\n",
    "* The wine features have very different variances\n",
    "* Variance of a feature measures spread of its values\n",
    "\n",
    "| feature | Variance |\n",
    "| --- | --- |\n",
    "| alcohol | 0.65  |\n",
    "| malic_acid | 1.24  |\n",
    "| ... | ... |\n",
    "| od280 | 0.50  |\n",
    "| proline | 99166.71  |\n",
    "\n",
    "> In KMeans: Feature variance = feature influence\n",
    "\n",
    "So we need to transform it using SimpleScaler class, that is mean 0 and variance 1\n",
    "\n",
    "* Features are then said that are **standarized**\n",
    "\n",
    "![](../images/wine_cluster_standarized.png)"
   ],
   "metadata": {
    "collapsed": false,
    "pycharm": {
     "name": "#%% md\n"
    }
   }
  },
  {
   "cell_type": "code",
   "execution_count": null,
   "outputs": [],
   "source": [
    "from sklearn.preprocessing import StandardScaler\n",
    "scaler = StandardScaler()\n",
    "scaler.fit(samples)\n",
    "StandardScaler(copy=True, with_mean=True, with_std=True)\n",
    "samples_scaled = scaler.transform(samples)"
   ],
   "metadata": {
    "collapsed": false,
    "pycharm": {
     "name": "#%%\n"
    }
   }
  },
  {
   "cell_type": "markdown",
   "source": [
    "## Putting all together"
   ],
   "metadata": {
    "collapsed": false,
    "pycharm": {
     "name": "#%% md\n"
    }
   }
  },
  {
   "cell_type": "code",
   "execution_count": null,
   "outputs": [],
   "source": [
    "scaler = StandardScaler()\n",
    "kmeans = KMeans(n_clusters=3)\n",
    "\n",
    "from sklearn.pipeline import make_pipeline\n",
    "\n",
    "pipeline = make_pipeline(scaler, kmeans)\n",
    "pipeline.fit(samples)\n",
    "labels = pipeline.predict(samples)"
   ],
   "metadata": {
    "collapsed": false,
    "pycharm": {
     "name": "#%%\n"
    }
   }
  },
  {
   "cell_type": "markdown",
   "source": [
    "|varieties|Barbera|Barolo|Grignolino|\n",
    "|---|---|---|---|\n",
    "|labels |   |  |   |\n",
    "| 0 |  0  | 59 | 3 |\n",
    "| 1 |  48 | 0 |  3 |\n",
    "| 2 | 0 |   0 | 65 |\n",
    "\n",
    "### Normalizer\n",
    "Note that Normalizer() is different to StandardScaler(),\n",
    "which you used in the previous exercise. While StandardScaler()\n",
    "standardizes features (such as the features of the fish data from the\n",
    "previous exercise) by removing the mean and scaling to unit variance,\n",
    "Normalizer() rescales each sample - here, each company's stock price -\n",
    "independently of the other.\n",
    "\n",
    "Another Exercise"
   ],
   "metadata": {
    "collapsed": false,
    "pycharm": {
     "name": "#%% md\n"
    }
   }
  },
  {
   "cell_type": "code",
   "execution_count": null,
   "outputs": [],
   "source": [
    "# Perform the necessary imports\n",
    "from sklearn.pipeline import make_pipeline\n",
    "from sklearn.preprocessing import StandardScaler\n",
    "from sklearn.cluster import KMeans\n",
    "\n",
    "# Create scaler: scaler\n",
    "scaler = StandardScaler()\n",
    "\n",
    "# Create KMeans instance: kmeans\n",
    "kmeans = KMeans(n_clusters=4)\n",
    "\n",
    "# Create pipeline: pipeline\n",
    "pipeline = make_pipeline(scaler, kmeans)\n",
    "\n",
    "# Import pandas\n",
    "import pandas as pd\n",
    "\n",
    "# Fit the pipeline to samples\n",
    "pipeline.fit(samples)\n",
    "\n",
    "# Calculate the cluster labels: labels\n",
    "labels = pipeline.predict(samples)\n",
    "\n",
    "# Create a DataFrame with labels and species as columns: df\n",
    "df = pd.DataFrame({\"labels\": labels, \"species\": species})\n",
    "\n",
    "# Create crosstab: ct\n",
    "ct = pd.crosstab(df[\"labels\"], df[\"species\"])\n",
    "\n",
    "# Display ct\n",
    "print(ct)\n",
    "\n",
    "# Import Normalizer\n",
    "from sklearn.preprocessing import Normalizer\n",
    "\n",
    "# Create a normalizer: normalizer\n",
    "normalizer = Normalizer()\n",
    "\n",
    "# Create a KMeans model with 10 clusters: kmeans\n",
    "kmeans = KMeans(n_clusters=10)\n",
    "\n",
    "# Make a pipeline chaining normalizer and kmeans: pipeline\n",
    "pipeline = make_pipeline(normalizer, kmeans)\n",
    "\n",
    "# Fit pipeline to the daily price movements\n",
    "pipeline.fit(movements)\n",
    "\n",
    "# Import pandas\n",
    "import pandas as pd\n",
    "\n",
    "# Predict the cluster labels: labels\n",
    "labels = pipeline.predict(movements)\n",
    "\n",
    "# Create a DataFrame aligning labels and companies: df\n",
    "df = pd.DataFrame({'labels': labels, 'companies': companies})\n",
    "\n",
    "# Display df sorted by cluster label\n",
    "print( df.sort_values('labels'))"
   ],
   "metadata": {
    "collapsed": false,
    "pycharm": {
     "name": "#%%\n"
    }
   }
  }
 ],
 "metadata": {
  "kernelspec": {
   "display_name": "Python 3",
   "language": "python",
   "name": "python3"
  },
  "language_info": {
   "codemirror_mode": {
    "name": "ipython",
    "version": 2
   },
   "file_extension": ".py",
   "mimetype": "text/x-python",
   "name": "python",
   "nbconvert_exporter": "python",
   "pygments_lexer": "ipython2",
   "version": "2.7.6"
  }
 },
 "nbformat": 4,
 "nbformat_minor": 0
}