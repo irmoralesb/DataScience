{
 "cells": [
  {
   "cell_type": "markdown",
   "metadata": {
    "collapsed": true,
    "pycharm": {
     "name": "#%% md\n"
    }
   },
   "source": [
    "# Centering And Scaling\n",
    "\n",
    "We can see the ranges of the data frame by using\n",
    "\n",
    "> df.describe()\n",
    "\n",
    "## Why scale your data\n",
    "\n",
    "* Many models use some form of distance to inform them\n",
    "* Features on larger scales can unduly influence the model\n",
    "    * Example: k-NN uses distance explicitly when making predictions\n",
    "* We want features to be on a similar scale\n",
    "* Normalizing (or scaling and centering)\n",
    "\n",
    "## Ways to normalize your data\n",
    "\n",
    "* Standardization: Substract the mean and divide by variance\n",
    "* All features are centered around zero and have variance 1\n",
    "* Can also substract the minumum and divide by the range\n",
    "* Minimum zero and maximum one\n",
    "* Can also normalize, so the data ranges from -1 to +1\n",
    "\n",
    "\n",
    "## Scale Example"
   ]
  },
  {
   "cell_type": "code",
   "execution_count": null,
   "outputs": [],
   "source": [
    "from sklearn.preprocessing import  scale\n",
    "X_scaled = scale(X)\n",
    "np.mean(X), np.std(X)\n",
    "# (8.13421922452, 16.7265339794)\n",
    "np.mean(X_scaled), np.std(X_scaled)\n",
    "# (2.54662653149e-15, 1.0)"
   ],
   "metadata": {
    "collapsed": false,
    "pycharm": {
     "name": "#%%\n"
    }
   }
  },
  {
   "cell_type": "markdown",
   "source": [
    "### Scaling with Pipeline"
   ],
   "metadata": {
    "collapsed": false,
    "pycharm": {
     "name": "#%% md\n"
    }
   }
  },
  {
   "cell_type": "code",
   "execution_count": null,
   "outputs": [],
   "source": [
    "from sklearn.preprocessing import StandardScaler\n",
    "steps = [(\"scaler\", StandardScaler()),\n",
    "         (\"knn\",KNeighborsClassifier())]\n",
    "\n",
    "pipeline = Pipeline(steps)\n",
    "\n",
    "X_train, X_test, y_train, y_test = train_test_split(X, y, test_size=0.2, random_state=21)\n",
    "\n",
    "knn_scaled = pipeline.fit(X_train, y_train)\n",
    "y_pred = pipeline.predict(X_test)\n",
    "accuracy_score(y_test, y_pred)\n",
    "# 0.956\n",
    "\n",
    "# Knn without scaling\n",
    "knn_unscaled = KNeighborClassifier().fit(X_train,y_train)\n",
    "knn_unscaled.score(X_test, y_test)\n",
    "# 0.928"
   ],
   "metadata": {
    "collapsed": false,
    "pycharm": {
     "name": "#%%\n"
    }
   }
  },
  {
   "cell_type": "markdown",
   "source": [
    "> Scaling did improve the model performance\n",
    "\n",
    "\n",
    "## CV and Scaling in a Pipeline"
   ],
   "metadata": {
    "collapsed": false,
    "pycharm": {
     "name": "#%% md\n"
    }
   }
  },
  {
   "cell_type": "code",
   "execution_count": null,
   "outputs": [],
   "source": [
    "steps[(\"scaler\", StandardScaler()),\n",
    "    (\"knn\", KNeighborsClassifier())]\n",
    "\n",
    "pipeline = Pipeline(steps)\n",
    "parameters = {knn__n_neighbors: np.arange(1,50)}\n",
    "X_train, X_test, y_train, y_test = train_test_split(X, y, test_size=0.2, random_state=21)\n",
    "cv = GridSearchCV(pipeline, param_grid=parameters)\n",
    "cv.fit(X_train, y_train)\n",
    "y_pred = cv.predict(X_test)\n",
    "\n",
    "print(cv.best_params_)\n",
    "# {'knn_n_neighbors' : 41}\n",
    "\n",
    "print(cv.score(X_test, y_test))\n",
    "#0.956\n",
    "\n",
    "print(classification_report(y_test,y_pred))"
   ],
   "metadata": {
    "collapsed": false,
    "pycharm": {
     "name": "#%%\n"
    }
   }
  },
  {
   "cell_type": "markdown",
   "source": [
    "![](../images/centering_scaling_classification_report.png)\n",
    "\n"
   ],
   "metadata": {
    "collapsed": false,
    "pycharm": {
     "name": "#%% md\n"
    }
   }
  }
 ],
 "metadata": {
  "kernelspec": {
   "display_name": "Python 3",
   "language": "python",
   "name": "python3"
  },
  "language_info": {
   "codemirror_mode": {
    "name": "ipython",
    "version": 2
   },
   "file_extension": ".py",
   "mimetype": "text/x-python",
   "name": "python",
   "nbconvert_exporter": "python",
   "pygments_lexer": "ipython2",
   "version": "2.7.6"
  }
 },
 "nbformat": 4,
 "nbformat_minor": 0
}