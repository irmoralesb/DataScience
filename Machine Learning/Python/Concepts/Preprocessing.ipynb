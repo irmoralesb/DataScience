{
 "cells": [
  {
   "cell_type": "markdown",
   "metadata": {
    "collapsed": true,
    "pycharm": {
     "name": "#%% md\n"
    }
   },
   "source": [
    "# Preprocessing Data\n",
    "\n",
    "## Regression with categorical features\n",
    "\n",
    "### Categorical Features\n",
    "\n",
    "* Need to encode categorical features numerically\n",
    "* Convert to \"Dummy variables\"\n",
    "    * 0: Observation was **not** in that category\n",
    "    * 1: Observation was in that category\n",
    "\n",
    "## Dummy Variables\n",
    "\n",
    "From:\n",
    "\n",
    "|Origin|\n",
    "|---|\n",
    "|US|\n",
    "|Europe|\n",
    "|Asia|\n",
    "\n",
    "To:\n",
    "\n",
    "|origin_Asia|origin_Europe|origin_US|\n",
    "|---|---|---|\n",
    "|0|0|1|\n",
    "|0|1|0|\n",
    "|1|0|0|\n",
    "\n",
    "We can infer that if it's not Asia or US, then is Europe, therefore:\n",
    "\n",
    "|origin_Asia|origin_US|\n",
    "|---|---|\n",
    "|0|1|\n",
    "|0|0|\n",
    "|1|0|\n",
    "\n",
    "> If we don't do this, we may be duplicating information and this may be an issue for some models\n",
    "\n",
    "Code examples:\n",
    "\n",
    "![](../images/automobil_dataset.png)\n",
    "\n",
    "![](../images/cars_eda.png)"
   ]
  },
  {
   "cell_type": "code",
   "execution_count": null,
   "outputs": [],
   "source": [
    "# Scikit Learn\n",
    "#OneHotEncoder()\n",
    "\n",
    "# Pandas\n",
    "#pd.get_dummies()\n",
    "\n",
    "import pandas as pd\n",
    "df = pd.read_csv(\"auto.csv\")\n",
    "df_origin = pd.get_dummies(df)\n",
    "print(df_origin)\n"
   ],
   "metadata": {
    "collapsed": false,
    "pycharm": {
     "name": "#%%\n"
    }
   }
  },
  {
   "cell_type": "markdown",
   "source": [
    "Print with all data\n",
    "![](../images/dummies_print.png)"
   ],
   "metadata": {
    "collapsed": false,
    "pycharm": {
     "name": "#%% md\n"
    }
   }
  },
  {
   "cell_type": "code",
   "execution_count": null,
   "outputs": [],
   "source": [
    "df_origin = df_origin.drop(\"origin_Asia\", axis=1)\n",
    "print(df_origin)"
   ],
   "metadata": {
    "collapsed": false,
    "pycharm": {
     "name": "#%%\n"
    }
   }
  },
  {
   "cell_type": "markdown",
   "source": [
    "> Also df.get_dummies(df, drop_first=True)\n",
    "\n",
    "Print without Asia\n",
    "![](../images/dummies_print_without_asia.png)\n",
    "\n",
    "## Regression with categorical features"
   ],
   "metadata": {
    "collapsed": false,
    "pycharm": {
     "name": "#%% md\n"
    }
   }
  },
  {
   "cell_type": "code",
   "execution_count": null,
   "outputs": [],
   "source": [
    "from sklearn.model_selection import  train_test_split\n",
    "from sklearn.linear_model import Ridge\n",
    "\n",
    "X_train, X_test, y_train, y_test = train_test_split(X, y, test_size=0.3, random_state=42)\n",
    "ridge = Ridge(alpha=0.5, normalize=True).fit(X_train, y_train)\n",
    "\n",
    "ridge.score(X_test, y_test)\n",
    "# 0.719064519022"
   ],
   "metadata": {
    "collapsed": false,
    "pycharm": {
     "name": "#%%\n"
    }
   }
  },
  {
   "cell_type": "markdown",
   "source": [
    "## Cross Validation"
   ],
   "metadata": {
    "collapsed": false,
    "pycharm": {
     "name": "#%% md\n"
    }
   }
  },
  {
   "cell_type": "code",
   "execution_count": null,
   "outputs": [],
   "source": [
    "# Import necessary modules\n",
    "from sklearn.linear_model import Ridge\n",
    "from sklearn.model_selection import cross_val_score\n",
    "\n",
    "# Instantiate a ridge regressor: ridge\n",
    "ridge = Ridge(alpha=0.5, normalize=True)\n",
    "\n",
    "# Perform 5-fold cross-validation: ridge_cv\n",
    "ridge_cv = cross_val_score(ridge, X, y, cv=5)\n",
    "\n",
    "# Print the cross-validated scores\n",
    "print(ridge_cv)"
   ],
   "metadata": {
    "collapsed": false,
    "pycharm": {
     "name": "#%%\n"
    }
   }
  }
 ],
 "metadata": {
  "kernelspec": {
   "display_name": "Python 3",
   "language": "python",
   "name": "python3"
  },
  "language_info": {
   "codemirror_mode": {
    "name": "ipython",
    "version": 2
   },
   "file_extension": ".py",
   "mimetype": "text/x-python",
   "name": "python",
   "nbconvert_exporter": "python",
   "pygments_lexer": "ipython2",
   "version": "2.7.6"
  }
 },
 "nbformat": 4,
 "nbformat_minor": 0
}