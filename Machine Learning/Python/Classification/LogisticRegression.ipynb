{
 "cells": [
  {
   "cell_type": "markdown",
   "metadata": {
    "collapsed": true,
    "pycharm": {
     "name": "#%% md\n"
    }
   },
   "source": [
    "# Logistic Regression\n",
    "\n",
    "* It's used for Classification problems, not Regression.\n",
    "* Logistic regression outputs probabilities\n",
    "* If the probability 'p' is greater than 0.5:\n",
    "    * the data is labeled '1;\n",
    "    * otherwise '0'\n",
    "\n",
    "It produces a **Linear Decision Boundary**"
   ]
  },
  {
   "cell_type": "code",
   "execution_count": null,
   "outputs": [],
   "source": [
    "# Imports\n",
    "from sklearn.linear_model import  LogisticRegression\n",
    "from sklearn.model_selection import  train_test_split\n",
    "from sklearn.impute import SimpleImputer\n",
    "import pandas as pd\n",
    "import numpy as np"
   ],
   "metadata": {
    "collapsed": false,
    "pycharm": {
     "name": "#%%\n"
    }
   }
  },
  {
   "cell_type": "markdown",
   "source": [
    "Loading & cleaning data"
   ],
   "metadata": {
    "collapsed": false,
    "pycharm": {
     "name": "#%% md\n"
    }
   }
  },
  {
   "cell_type": "code",
   "execution_count": 27,
   "outputs": [
    {
     "name": "stdout",
     "output_type": "stream",
     "text": [
      "[['republican' 'n' 'y' ... 'y' 'n' 'y']\n",
      " ['democrat' 'n' 'y' ... 'y' 'n' 'n']\n",
      " ['democrat' 'n' 'y' ... 'n' 'n' 'y']\n",
      " ...\n",
      " ['republican' 'n' 'y' ... 'y' 'n' 'y']\n",
      " ['republican' 'n' 'n' ... 'y' 'n' 'y']\n",
      " ['republican' 'n' 'y' ... 'y' 'n' 'n']]\n"
     ]
    }
   ],
   "source": [
    "votes = pd.read_csv(\"../../files/house-votes-84.csv\")\n",
    "\n",
    "# Removing NaN\n",
    "imputer = SimpleImputer(missing_values='?', strategy=\"most_frequent\")\n",
    "imputer.fit(votes)\n",
    "votes_temp = imputer.transform(votes)\n",
    "votes = pd.DataFrame(votes_temp)\n",
    "\n",
    "# Converting data to 0/1\n",
    "X = votes.iloc[:,1:].eq('y').mul(1)\n",
    "y = votes.iloc[:,0].eq('republican').mul(1)\n",
    "\n",
    "X_train, X_test, y_train, y_test = train_test_split(X,y, test_size=0.4, random_state=42)"
   ],
   "metadata": {
    "collapsed": false,
    "pycharm": {
     "name": "#%%\n"
    }
   }
  },
  {
   "cell_type": "markdown",
   "source": [
    "Logistic Regression"
   ],
   "metadata": {
    "collapsed": false,
    "pycharm": {
     "name": "#%% md\n"
    }
   }
  },
  {
   "cell_type": "code",
   "execution_count": 28,
   "outputs": [],
   "source": [
    "logreg = LogisticRegression()\n",
    "logreg.fit(X_train, y_train) #Democrats\n",
    "y_pred = logreg.predict(X_test)"
   ],
   "metadata": {
    "collapsed": false,
    "pycharm": {
     "name": "#%%\n"
    }
   }
  },
  {
   "cell_type": "markdown",
   "source": [
    "## Receiver Operating Characteristic (ROC) Curve\n",
    "\n",
    "By default, the threshold is 0.5, but it can be changed so the curve accepts or rejects more elements\n",
    "\n",
    "When the threshold is 0, then all is accepted, therefore when is 1 all is rejected\n",
    "\n",
    "> I need to use another dataset with binary"
   ],
   "metadata": {
    "collapsed": false,
    "pycharm": {
     "name": "#%% md\n"
    }
   }
  },
  {
   "cell_type": "code",
   "execution_count": 29,
   "outputs": [
    {
     "data": {
      "text/plain": "<Figure size 432x288 with 1 Axes>",
      "image/png": "[encoded data removed]"
     },
     "metadata": {
      "needs_background": "light"
     },
     "output_type": "display_data"
    }
   ],
   "source": [
    "from sklearn.metrics import roc_curve\n",
    "import matplotlib.pyplot as plt\n",
    "y_pred_prob = logreg.predict_proba(X_test)[:,1]\n",
    "fpr, tpr, threshold = roc_curve(y_test, y_pred_prob)\n",
    "\n",
    "# fpr : false positive\n",
    "# tpr : true positive\n",
    "\n",
    "plt.plot([0,1], [0,1],'k--')\n",
    "plt.plot(fpr, tpr, label=\"Logistic Regression\")\n",
    "plt.xlabel(\"False Positive Rate\")\n",
    "plt.ylabel(\"True Positive Rate\")\n",
    "plt.title(\"Logistic Regression ROC Curve\")\n",
    "plt.show()"
   ],
   "metadata": {
    "collapsed": false,
    "pycharm": {
     "name": "#%%\n"
    }
   }
  },
  {
   "cell_type": "markdown",
   "source": [
    "## Area under the ROC Curve\n",
    "\n",
    "This is another metroic we can use for evaluate the mode\n",
    "\n",
    "* Larger area under the curve better model\n",
    "\n",
    "[Area under curve](../images/roc_area_under_curve.png)"
   ],
   "metadata": {
    "collapsed": false,
    "pycharm": {
     "name": "#%% md\n"
    }
   }
  },
  {
   "cell_type": "code",
   "execution_count": 30,
   "outputs": [
    {
     "data": {
      "text/plain": "0.9931650160412889"
     },
     "execution_count": 30,
     "metadata": {},
     "output_type": "execute_result"
    }
   ],
   "source": [
    "from sklearn.metrics import  roc_auc_score\n",
    "roc_auc_score(y_test, y_pred_prob)"
   ],
   "metadata": {
    "collapsed": false,
    "pycharm": {
     "name": "#%%\n"
    }
   }
  },
  {
   "cell_type": "markdown",
   "source": [
    "### AUC using Cross Validation"
   ],
   "metadata": {
    "collapsed": false,
    "pycharm": {
     "name": "#%% md\n"
    }
   }
  },
  {
   "cell_type": "code",
   "execution_count": 32,
   "outputs": [
    {
     "name": "stdout",
     "output_type": "stream",
     "text": [
      "[0.99667037 0.99334073 0.99579125 1.         0.96197827]\n",
      "0.9895561235738818\n"
     ]
    }
   ],
   "source": [
    "from sklearn.model_selection import cross_val_score\n",
    "cv_score = cross_val_score(logreg, X, y, cv=5, scoring='roc_auc')\n",
    "\n",
    "print(cv_score)\n",
    "print(np.mean(cv_score))\n"
   ],
   "metadata": {
    "collapsed": false,
    "pycharm": {
     "name": "#%%\n"
    }
   }
  },
  {
   "cell_type": "markdown",
   "source": [
    "# Hyperparameter tuning\n",
    "\n",
    "For each algorithm we need to find the best hyperparameter (k for knn algorithm for instance).\n",
    "\n",
    "## Grid Seach Validation\n",
    "\n",
    "We need to select the\n",
    "![](../images/grid_search_validation.png)"
   ],
   "metadata": {
    "collapsed": false,
    "pycharm": {
     "name": "#%% md\n"
    }
   }
  },
  {
   "cell_type": "code",
   "execution_count": null,
   "outputs": [],
   "source": [
    "from sklearn.model_selection import  GridSearchCV\n",
    "from sklearn.neighbors import KNeighborsClassifier\n",
    "\n",
    "param_grid = {'n_neighbors': np.arange(1,50)}\n",
    "knn = KNeighborsClassifier()\n",
    "knn_cv = GridSearchCV(knn, param_grid, cv=5)\n",
    "\n",
    "knn_cv.fit(X, y)\n",
    "knn_cv.best_params_\n",
    "# {n_neighbors: 12}\n",
    "\n",
    "knn_cv.best_score_\n",
    "# 0.933216168717"
   ],
   "metadata": {
    "collapsed": false,
    "pycharm": {
     "name": "#%%\n"
    }
   }
  }
 ],
 "metadata": {
  "kernelspec": {
   "display_name": "Python 3",
   "language": "python",
   "name": "python3"
  },
  "language_info": {
   "codemirror_mode": {
    "name": "ipython",
    "version": 2
   },
   "file_extension": ".py",
   "mimetype": "text/x-python",
   "name": "python",
   "nbconvert_exporter": "python",
   "pygments_lexer": "ipython2",
   "version": "2.7.6"
  }
 },
 "nbformat": 4,
 "nbformat_minor": 0
}